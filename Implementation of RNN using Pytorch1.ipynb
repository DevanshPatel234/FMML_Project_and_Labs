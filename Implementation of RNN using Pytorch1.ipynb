{
  "nbformat": 4,
  "nbformat_minor": 0,
  "metadata": {
    "colab": {
      "provenance": [],
      "gpuType": "T4",
      "authorship_tag": "ABX9TyOXaWtl/hinIY94qPVC2S6b",
      "include_colab_link": true
    },
    "kernelspec": {
      "name": "python3",
      "display_name": "Python 3"
    },
    "language_info": {
      "name": "python"
    },
    "accelerator": "GPU"
  },
  "cells": [
    {
      "cell_type": "markdown",
      "metadata": {
        "id": "view-in-github",
        "colab_type": "text"
      },
      "source": [
        "<a href=\"https://colab.research.google.com/github/DevanshPatel234/FMML_Project_and_Labs/blob/main/Implementation%20of%20RNN%20using%20Pytorch1.ipynb\" target=\"_parent\"><img src=\"https://colab.research.google.com/assets/colab-badge.svg\" alt=\"Open In Colab\"/></a>"
      ]
    },
    {
      "cell_type": "markdown",
      "source": [
        "# Implementation of RNN using Pytorch"
      ],
      "metadata": {
        "id": "kkfUc9zFyJ_Z"
      }
    },
    {
      "cell_type": "markdown",
      "source": [
        "Recurrent Neural Networks (RNNs) are a type of artificial neural network designed for processing sequences of data. Unlike traditional feedforward neural networks, RNNs have connections that form directed cycles, allowing them to maintain a memory of previous inputs. This makes RNNs particularly well-suited for tasks where the order of data is important, such as time series prediction, natural language processing, and speech recognition.\n",
        "\n",
        "The key feature of RNNs is their hidden state, which captures information from previous time steps. At each time step t, the RNN takes an input and updates its hidden state ht using the following equations:\n",
        "ht=𝜎(Whht-1+Wxxt+b)\n",
        "yt=Wyht+c\n",
        "\n",
        "\n",
        "Here,C is a non-linear activation function (e.g., tanh or ReLU), Wh,Wx,Wy\n",
        "are weight matrices, and b and c are biases.\n",
        "\n",
        "One of the main challenges with RNNs is the vanishing gradient problem, which makes it difficult for the network to learn long-range dependencies. Variants like Long Short-Term Memory (LSTM) and Gated Recurrent Unit (GRU) were developed to address this issue."
      ],
      "metadata": {
        "id": "sRZ_1DaY4SW-"
      }
    },
    {
      "cell_type": "markdown",
      "source": [
        "Import Libraries"
      ],
      "metadata": {
        "id": "Kbs4jJCyybDR"
      }
    },
    {
      "cell_type": "code",
      "source": [
        "import torch\n",
        "import torch.nn as nn\n",
        "import torch.optim as optim\n",
        "import torch.nn.functional as F\n",
        "\n",
        "from torch.utils.data import DataLoader\n",
        "import torchvision.datasets as datasets\n",
        "import torchvision.transforms as transforms\n",
        "from torch.autograd import Variable"
      ],
      "metadata": {
        "id": "mnPHUbkcyWJh"
      },
      "execution_count": 1,
      "outputs": []
    },
    {
      "cell_type": "code",
      "source": [
        "device= torch.device('cuda' if torch.cuda.is_available() else 'cpu')"
      ],
      "metadata": {
        "id": "zRN8aDG6zDRp"
      },
      "execution_count": 2,
      "outputs": []
    },
    {
      "cell_type": "markdown",
      "source": [
        "Prepare Dataset"
      ],
      "metadata": {
        "id": "nIts-_xNzTDd"
      }
    },
    {
      "cell_type": "code",
      "source": [
        "train_data=datasets.MNIST(\n",
        "    root='data/',\n",
        "    train=True,\n",
        "    transform=transforms.ToTensor(),\n",
        "    download=True\n",
        ")\n",
        "\n",
        "test_data=datasets.MNIST(\n",
        "    root='data/',\n",
        "    train=False,\n",
        "    transform=transforms.ToTensor(),\n",
        "    download=True\n",
        ")\n",
        "\n",
        "train_loader=DataLoader(\n",
        "    dataset=train_data,\n",
        "    batch_size=batch_size,\n",
        "    shuffle=True\n",
        ")\n",
        "\n",
        "test_loader=DataLoader(\n",
        "    dataset=test_data,\n",
        "    batch_size=batch_size,\n",
        "    shuffle=True\n",
        ")"
      ],
      "metadata": {
        "colab": {
          "base_uri": "https://localhost:8080/"
        },
        "id": "MgyGR5sQzw0b",
        "outputId": "21e05cf0-d786-4eaa-ae49-94c03b78c869"
      },
      "execution_count": 4,
      "outputs": [
        {
          "output_type": "stream",
          "name": "stdout",
          "text": [
            "Downloading http://yann.lecun.com/exdb/mnist/train-images-idx3-ubyte.gz\n",
            "Failed to download (trying next):\n",
            "HTTP Error 403: Forbidden\n",
            "\n",
            "Downloading https://ossci-datasets.s3.amazonaws.com/mnist/train-images-idx3-ubyte.gz\n",
            "Downloading https://ossci-datasets.s3.amazonaws.com/mnist/train-images-idx3-ubyte.gz to data/MNIST/raw/train-images-idx3-ubyte.gz\n"
          ]
        },
        {
          "output_type": "stream",
          "name": "stderr",
          "text": [
            "100%|██████████| 9912422/9912422 [00:00<00:00, 16253400.64it/s]\n"
          ]
        },
        {
          "output_type": "stream",
          "name": "stdout",
          "text": [
            "Extracting data/MNIST/raw/train-images-idx3-ubyte.gz to data/MNIST/raw\n",
            "\n",
            "Downloading http://yann.lecun.com/exdb/mnist/train-labels-idx1-ubyte.gz\n",
            "Failed to download (trying next):\n",
            "HTTP Error 403: Forbidden\n",
            "\n",
            "Downloading https://ossci-datasets.s3.amazonaws.com/mnist/train-labels-idx1-ubyte.gz\n",
            "Downloading https://ossci-datasets.s3.amazonaws.com/mnist/train-labels-idx1-ubyte.gz to data/MNIST/raw/train-labels-idx1-ubyte.gz\n"
          ]
        },
        {
          "output_type": "stream",
          "name": "stderr",
          "text": [
            "100%|██████████| 28881/28881 [00:00<00:00, 490986.48it/s]\n"
          ]
        },
        {
          "output_type": "stream",
          "name": "stdout",
          "text": [
            "Extracting data/MNIST/raw/train-labels-idx1-ubyte.gz to data/MNIST/raw\n",
            "\n",
            "Downloading http://yann.lecun.com/exdb/mnist/t10k-images-idx3-ubyte.gz\n",
            "Failed to download (trying next):\n",
            "HTTP Error 403: Forbidden\n",
            "\n",
            "Downloading https://ossci-datasets.s3.amazonaws.com/mnist/t10k-images-idx3-ubyte.gz\n",
            "Downloading https://ossci-datasets.s3.amazonaws.com/mnist/t10k-images-idx3-ubyte.gz to data/MNIST/raw/t10k-images-idx3-ubyte.gz\n"
          ]
        },
        {
          "output_type": "stream",
          "name": "stderr",
          "text": [
            "100%|██████████| 1648877/1648877 [00:00<00:00, 4440841.61it/s]\n"
          ]
        },
        {
          "output_type": "stream",
          "name": "stdout",
          "text": [
            "Extracting data/MNIST/raw/t10k-images-idx3-ubyte.gz to data/MNIST/raw\n",
            "\n",
            "Downloading http://yann.lecun.com/exdb/mnist/t10k-labels-idx1-ubyte.gz\n",
            "Failed to download (trying next):\n",
            "HTTP Error 403: Forbidden\n",
            "\n",
            "Downloading https://ossci-datasets.s3.amazonaws.com/mnist/t10k-labels-idx1-ubyte.gz\n",
            "Downloading https://ossci-datasets.s3.amazonaws.com/mnist/t10k-labels-idx1-ubyte.gz to data/MNIST/raw/t10k-labels-idx1-ubyte.gz\n"
          ]
        },
        {
          "output_type": "stream",
          "name": "stderr",
          "text": [
            "100%|██████████| 4542/4542 [00:00<00:00, 5146009.93it/s]"
          ]
        },
        {
          "output_type": "stream",
          "name": "stdout",
          "text": [
            "Extracting data/MNIST/raw/t10k-labels-idx1-ubyte.gz to data/MNIST/raw\n",
            "\n"
          ]
        },
        {
          "output_type": "stream",
          "name": "stderr",
          "text": [
            "\n"
          ]
        }
      ]
    },
    {
      "cell_type": "code",
      "source": [
        "batch_size=100\n",
        "n_iter=8000\n",
        "\n",
        "n_epoch=n_iter/(len(train_data)/batch_size)\n",
        "n_epoch=int(n_epoch)"
      ],
      "metadata": {
        "id": "aFYbWq6E0A81"
      },
      "execution_count": 6,
      "outputs": []
    },
    {
      "cell_type": "code",
      "source": [
        "import matplotlib.pyplot as plt\n",
        "idx=123\n",
        "plt.imshow(test_data[idx][0].reshape(28,28)), test_data[idx][1]"
      ],
      "metadata": {
        "colab": {
          "base_uri": "https://localhost:8080/",
          "height": 448
        },
        "id": "HLuzi8_Lz8mZ",
        "outputId": "30ed6920-4d8a-45bb-b6fa-db66a585ea55"
      },
      "execution_count": 5,
      "outputs": [
        {
          "output_type": "execute_result",
          "data": {
            "text/plain": [
              "(<matplotlib.image.AxesImage at 0x7ecce49dd330>, 6)"
            ]
          },
          "metadata": {},
          "execution_count": 5
        },
        {
          "output_type": "display_data",
          "data": {
            "text/plain": [
              "<Figure size 640x480 with 1 Axes>"
            ],
            "image/png": "[encoded data removed]"
          },
          "metadata": {}
        }
      ]
    },
    {
      "cell_type": "code",
      "source": [
        "test_data[idx][0].shape"
      ],
      "metadata": {
        "colab": {
          "base_uri": "https://localhost:8080/"
        },
        "id": "DH2oAPii0S94",
        "outputId": "148004b7-a398-484a-82d7-44884652cd82"
      },
      "execution_count": 7,
      "outputs": [
        {
          "output_type": "execute_result",
          "data": {
            "text/plain": [
              "torch.Size([1, 28, 28])"
            ]
          },
          "metadata": {},
          "execution_count": 7
        }
      ]
    },
    {
      "cell_type": "markdown",
      "source": [
        "Create RNN Model"
      ],
      "metadata": {
        "id": "pbxiqU4d0X_y"
      }
    },
    {
      "cell_type": "code",
      "source": [
        "class RNN_model(nn.Module):\n",
        "  def __init__(self, input_dim, hidden_dim, layer_dim, num_class):\n",
        "    super(RNN_model, self).__init__()\n",
        "\n",
        "    self.hidden_dim=hidden_dim\n",
        "    self.layer_dim=layer_dim\n",
        "\n",
        "    self.rnn=nn.RNN(input_dim, hidden_dim, layer_dim, batch_first=True,nonlinearity='relu')\n",
        "    self.fc=nn.Linear(hidden_dim,num_class)\n",
        "\n",
        "    #self.dropout = nn.Dropout(p=0.5)\n",
        "    self.softmax=nn.Softmax(dim=1)\n",
        "\n",
        "  def forward(self,x):\n",
        "\n",
        "    #h0=Variable(torch.zeros(self.layer_dim, x.size(0), self.hidden_dim)).to(device)\n",
        "\n",
        "    out, hn = self.rnn(x)\n",
        "    #out=self.dropout(out)\n",
        "    out=self.fc(out[:,-1,:])\n",
        "\n",
        "\n",
        "    return out\n"
      ],
      "metadata": {
        "id": "7m8xuMro0Z1R"
      },
      "execution_count": 8,
      "outputs": []
    },
    {
      "cell_type": "markdown",
      "source": [
        "Instantiate Model\n",
        "\n",
        "Instantiate Loss\n",
        "\n",
        "Instantiate Optimizer"
      ],
      "metadata": {
        "id": "aeNW-Yl30mSp"
      }
    },
    {
      "cell_type": "code",
      "source": [
        "input_dim=28\n",
        "hidden_dim=100\n",
        "layer_dim=2\n",
        "num_class=10\n",
        "\n",
        "lr=0.05\n",
        "\n",
        "model=RNN_model(input_dim, hidden_dim, layer_dim, num_class).to(device)\n",
        "\n",
        "loss=nn.CrossEntropyLoss()\n",
        "optimizer=optim.SGD(model.parameters(),lr=lr)\n"
      ],
      "metadata": {
        "id": "cAn2KZZ40ttj"
      },
      "execution_count": 9,
      "outputs": []
    },
    {
      "cell_type": "markdown",
      "source": [
        "Traning the Model"
      ],
      "metadata": {
        "id": "NuKG4-mD03DQ"
      }
    },
    {
      "cell_type": "code",
      "source": [
        "seq_len=28\n",
        "\n",
        "\n",
        "lost_epoc=[]\n",
        "iter_list=[]\n",
        "accuracy_list=[]\n",
        "\n",
        "count=0\n",
        "\n",
        "for ep in range(n_epoch):\n",
        "  print(f' epoch number------->{ep}')\n",
        "\n",
        "  for i, (image,target) in enumerate(train_loader):\n",
        "\n",
        "    data=Variable(image.reshape(-1,seq_len,input_dim))\n",
        "    data=data.to(device=device)\n",
        "\n",
        "    target=Variable(target).to(device=device)\n",
        "\n",
        "    optimizer.zero_grad()\n",
        "\n",
        "    scores=model(data)\n",
        "    error=loss(scores,target)\n",
        "\n",
        "    error.backward()\n",
        "\n",
        "    optimizer.step()\n",
        "\n",
        "    count += 1\n",
        "\n",
        "    if count % 250 ==0:\n",
        "\n",
        "        correct=0\n",
        "        total=0\n",
        "\n",
        "        for image,target in test_loader:\n",
        "\n",
        "            data=Variable(image.reshape(-1,seq_len,input_dim))\n",
        "            data=data.to(device=device)\n",
        "\n",
        "            target=Variable(target).to(device=device)\n",
        "\n",
        "\n",
        "            out=model(data)\n",
        "\n",
        "            predicted=torch.max(out,1)[1]\n",
        "\n",
        "            total+= target.size(0)\n",
        "\n",
        "            correct += (predicted==target).sum()\n",
        "\n",
        "        accuracy =100* correct / float(total)\n",
        "\n",
        "        lost_epoc.append(error.data)\n",
        "        iter_list.append(count)\n",
        "        accuracy_list.append(accuracy)\n",
        "\n",
        "        print(f'Iteration:{count}-------> Loss:{error.data}, Accuracy: {accuracy}%')\n",
        "\n"
      ],
      "metadata": {
        "colab": {
          "base_uri": "https://localhost:8080/"
        },
        "id": "olcMiTIp04t-",
        "outputId": "19f2b156-ec2a-4663-bbd2-9a8120627a99"
      },
      "execution_count": 10,
      "outputs": [
        {
          "output_type": "stream",
          "name": "stdout",
          "text": [
            " epoch number------->0\n",
            "Iteration:250-------> Loss:2.303762912750244, Accuracy: 11.34999942779541%\n",
            "Iteration:500-------> Loss:2.275005578994751, Accuracy: 17.869998931884766%\n",
            " epoch number------->1\n",
            "Iteration:750-------> Loss:1.153594732284546, Accuracy: 54.88999938964844%\n",
            "Iteration:1000-------> Loss:1.1288831233978271, Accuracy: 63.519996643066406%\n",
            " epoch number------->2\n",
            "Iteration:1250-------> Loss:0.49632376432418823, Accuracy: 79.75%\n",
            "Iteration:1500-------> Loss:0.5496236681938171, Accuracy: 82.63999938964844%\n",
            "Iteration:1750-------> Loss:0.6355524063110352, Accuracy: 89.45999908447266%\n",
            " epoch number------->3\n",
            "Iteration:2000-------> Loss:0.21924161911010742, Accuracy: 92.5199966430664%\n",
            "Iteration:2250-------> Loss:0.7748001217842102, Accuracy: 76.73999786376953%\n",
            " epoch number------->4\n",
            "Iteration:2500-------> Loss:0.19581195712089539, Accuracy: 91.98999786376953%\n",
            "Iteration:2750-------> Loss:0.29851290583610535, Accuracy: 92.93999481201172%\n",
            "Iteration:3000-------> Loss:0.13670092821121216, Accuracy: 94.16999816894531%\n",
            " epoch number------->5\n",
            "Iteration:3250-------> Loss:0.22494150698184967, Accuracy: 95.22999572753906%\n",
            "Iteration:3500-------> Loss:0.14920268952846527, Accuracy: 95.33999633789062%\n",
            " epoch number------->6\n",
            "Iteration:3750-------> Loss:0.15087291598320007, Accuracy: 95.81999969482422%\n",
            "Iteration:4000-------> Loss:0.10575896501541138, Accuracy: 95.66999816894531%\n",
            " epoch number------->7\n",
            "Iteration:4250-------> Loss:0.08148228377103806, Accuracy: 95.64999389648438%\n",
            "Iteration:4500-------> Loss:0.11155060678720474, Accuracy: 96.82999420166016%\n",
            "Iteration:4750-------> Loss:0.11123007535934448, Accuracy: 97.05999755859375%\n",
            " epoch number------->8\n",
            "Iteration:5000-------> Loss:0.14008133113384247, Accuracy: 96.8699951171875%\n",
            "Iteration:5250-------> Loss:0.07563943415880203, Accuracy: 97.29000091552734%\n",
            " epoch number------->9\n",
            "Iteration:5500-------> Loss:0.0862068384885788, Accuracy: 97.37999725341797%\n",
            "Iteration:5750-------> Loss:0.0722142904996872, Accuracy: 97.02999877929688%\n",
            "Iteration:6000-------> Loss:0.20636090636253357, Accuracy: 97.47999572753906%\n",
            " epoch number------->10\n",
            "Iteration:6250-------> Loss:0.11368856579065323, Accuracy: 97.41999816894531%\n",
            "Iteration:6500-------> Loss:0.05091245099902153, Accuracy: 97.8699951171875%\n",
            " epoch number------->11\n",
            "Iteration:6750-------> Loss:0.10481324046850204, Accuracy: 95.0%\n",
            "Iteration:7000-------> Loss:0.02469285950064659, Accuracy: 97.70999908447266%\n",
            " epoch number------->12\n",
            "Iteration:7250-------> Loss:0.027445532381534576, Accuracy: 97.70999908447266%\n",
            "Iteration:7500-------> Loss:0.06328053772449493, Accuracy: 97.8499984741211%\n",
            "Iteration:7750-------> Loss:0.14080925285816193, Accuracy: 97.68999481201172%\n"
          ]
        }
      ]
    },
    {
      "cell_type": "markdown",
      "source": [
        "Prediction"
      ],
      "metadata": {
        "id": "o6g8qMG91k1n"
      }
    },
    {
      "cell_type": "code",
      "source": [
        "lss=[float(x.cpu()) for x in lost_epoc]\n",
        "plt.plot(iter_list,lss)"
      ],
      "metadata": {
        "colab": {
          "base_uri": "https://localhost:8080/",
          "height": 448
        },
        "id": "nhXGRc6l1o1Q",
        "outputId": "b4c40bab-e7c5-480c-c065-03420ad549a4"
      },
      "execution_count": 11,
      "outputs": [
        {
          "output_type": "execute_result",
          "data": {
            "text/plain": [
              "[<matplotlib.lines.Line2D at 0x7eccd88c26b0>]"
            ]
          },
          "metadata": {},
          "execution_count": 11
        },
        {
          "output_type": "display_data",
          "data": {
            "text/plain": [
              "<Figure size 640x480 with 1 Axes>"
            ],
            "image/png": "[encoded data removed]"
          },
          "metadata": {}
        }
      ]
    },
    {
      "cell_type": "code",
      "source": [
        "acc=[float(x.cpu()) for x in accuracy_list]\n",
        "plt.plot(iter_list,acc)"
      ],
      "metadata": {
        "colab": {
          "base_uri": "https://localhost:8080/",
          "height": 448
        },
        "id": "MTP01keH1u0Q",
        "outputId": "5081b5f1-23a2-4ced-b036-bc08e2475644"
      },
      "execution_count": 12,
      "outputs": [
        {
          "output_type": "execute_result",
          "data": {
            "text/plain": [
              "[<matplotlib.lines.Line2D at 0x7eccd899cc10>]"
            ]
          },
          "metadata": {},
          "execution_count": 12
        },
        {
          "output_type": "display_data",
          "data": {
            "text/plain": [
              "<Figure size 640x480 with 1 Axes>"
            ],
            "image/png": "[encoded data removed]"
          },
          "metadata": {}
        }
      ]
    }
  ]
}