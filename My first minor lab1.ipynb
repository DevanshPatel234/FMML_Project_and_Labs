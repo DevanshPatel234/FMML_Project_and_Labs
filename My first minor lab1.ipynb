{
  "nbformat": 4,
  "nbformat_minor": 0,
  "metadata": {
    "colab": {
      "provenance": [],
      "authorship_tag": "ABX9TyOKpSIlYySC504ULOc97zfI",
      "include_colab_link": true
    },
    "kernelspec": {
      "name": "python3",
      "display_name": "Python 3"
    },
    "language_info": {
      "name": "python"
    }
  },
  "cells": [
    {
      "cell_type": "markdown",
      "metadata": {
        "id": "view-in-github",
        "colab_type": "text"
      },
      "source": [
        "<a href=\"https://colab.research.google.com/github/DevanshPatel234/FMML_Project_and_Labs/blob/main/My%20first%20minor%20lab1.ipynb\" target=\"_parent\"><img src=\"https://colab.research.google.com/assets/colab-badge.svg\" alt=\"Open In Colab\"/></a>"
      ]
    },
    {
      "cell_type": "code",
      "execution_count": null,
      "metadata": {
        "id": "l88jgRvI6YqB"
      },
      "outputs": [],
      "source": [
        "For string its{upper,lower,strip,split,replace}\n",
        "For list its{append,extend,reverse,sort,pop}\n",
        "For dictionary its{ keys,values,items,get,pop}\n",
        "For  set its{add,remove,union,intersection,difference}\n",
        "\n",
        "\n",
        "\n"
      ]
    },
    {
      "cell_type": "code",
      "source": [
        "Q3 b)\n",
        "import numpy as np\n",
        "matrix1=np.array([[1,2],[3,4]])\n",
        "matrix2=np.array([[5,6],[7,8]])\n",
        "result=np.dot(matrix1,matrix2)\n",
        "print(result)"
      ],
      "metadata": {
        "colab": {
          "base_uri": "https://localhost:8080/"
        },
        "id": "l1CiRtAXS_Mt",
        "outputId": "858e8566-92af-4d11-c1e3-4d6fc114cc4e"
      },
      "execution_count": 13,
      "outputs": [
        {
          "output_type": "stream",
          "name": "stdout",
          "text": [
            "[[19 22]\n",
            " [43 50]]\n"
          ]
        }
      ]
    },
    {
      "cell_type": "code",
      "source": [
        "Q3 a)\n",
        "import numpy as np\n",
        "row1 = np.array([1, 1])\n",
        "row2 = np.array([2, 2])\n",
        "submatrix = np.vstack((row1, row2))\n",
        "matrix = np.tile(submatrix, (5,5))\n",
        "print(matrix)\n"
      ],
      "metadata": {
        "colab": {
          "base_uri": "https://localhost:8080/"
        },
        "id": "01l89ZQ0Shn7",
        "outputId": "12daf7d8-5bd6-4761-e881-57059a258838"
      },
      "execution_count": 14,
      "outputs": [
        {
          "output_type": "stream",
          "name": "stdout",
          "text": [
            "[[1 1 1 1 1 1 1 1 1 1]\n",
            " [2 2 2 2 2 2 2 2 2 2]\n",
            " [1 1 1 1 1 1 1 1 1 1]\n",
            " [2 2 2 2 2 2 2 2 2 2]\n",
            " [1 1 1 1 1 1 1 1 1 1]\n",
            " [2 2 2 2 2 2 2 2 2 2]\n",
            " [1 1 1 1 1 1 1 1 1 1]\n",
            " [2 2 2 2 2 2 2 2 2 2]\n",
            " [1 1 1 1 1 1 1 1 1 1]\n",
            " [2 2 2 2 2 2 2 2 2 2]]\n"
          ]
        }
      ]
    },
    {
      "cell_type": "code",
      "source": [
        "Q2\n",
        "def calculate_highest_earning_female(work_hours):\n",
        "    max_hours = 0\n",
        "    highest_earning_female = None\n",
        "\n",
        "    for name, hours, gender in work_hours:\n",
        "        if gender == 'F' and hours > max_hours:\n",
        "            max_hours = hours\n",
        "            highest_earning_female = name\n",
        "\n",
        "    if highest_earning_female is not None:\n",
        "        payment = max_hours * 20\n",
        "        return highest_earning_female, payment\n",
        "    else:\n",
        "        return \"No female workers found in the list.\"\n",
        "work_hours = [('Abby', 100, 'F'), ('Billy', 400, 'M'),\n",
        " ('Cassie', 800, 'F'), ('Maggi', 600, 'F'), ('Alex', 500, 'M'),\n",
        "  ('Raj', 225, 'M'), ('Penny', 920, 'F'), ('Ben', 300, 'M')]\n",
        "\n",
        "result = calculate_highest_earning_female(work_hours)\n",
        "print(result)\n"
      ],
      "metadata": {
        "colab": {
          "base_uri": "https://localhost:8080/"
        },
        "id": "q4SaUtB6SUEr",
        "outputId": "5070f720-ba4f-48ee-b95f-bf27c9c3e7df"
      },
      "execution_count": 10,
      "outputs": [
        {
          "output_type": "stream",
          "name": "stdout",
          "text": [
            "('Penny', 18400)\n"
          ]
        }
      ]
    },
    {
      "cell_type": "code",
      "source": [
        "Q1\n",
        "def reverse_and_concatenate(A,B):\n",
        "  reversed_A=A[::-1]\n",
        "  result=reversed_A+B\n",
        "  return result\n",
        "string_A=\"Hello\"\n",
        "string_B=\"Students\"\n",
        "result=reverse_and_concatenate(string_A,string_B)\n",
        "print(result)"
      ],
      "metadata": {
        "colab": {
          "base_uri": "https://localhost:8080/"
        },
        "id": "bPe4OruxSLpP",
        "outputId": "15cbde4e-dc04-41d3-977c-41b08de0f90c"
      },
      "execution_count": 9,
      "outputs": [
        {
          "output_type": "stream",
          "name": "stdout",
          "text": [
            "olleHStudents\n"
          ]
        }
      ]
    }
  ]
}